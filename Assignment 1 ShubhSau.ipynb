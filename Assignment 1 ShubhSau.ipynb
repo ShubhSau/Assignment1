{
 "cells": [
  {
   "cell_type": "code",
   "execution_count": 1,
   "id": "40f1bf33-9b19-461a-8d4f-61e872b82800",
   "metadata": {},
   "outputs": [],
   "source": [
    "s = \"shubham\""
   ]
  },
  {
   "cell_type": "code",
   "execution_count": 2,
   "id": "22af6f05-5c67-4b7e-95db-7f5e90cfac35",
   "metadata": {},
   "outputs": [],
   "source": [
    "l = [2,3,4,7, \"shubh\" , 45.76]"
   ]
  },
  {
   "cell_type": "code",
   "execution_count": 3,
   "id": "7f557c82-c240-4afb-bc1a-77e414260218",
   "metadata": {},
   "outputs": [],
   "source": [
    "f = 15.25"
   ]
  },
  {
   "cell_type": "code",
   "execution_count": 4,
   "id": "a5d57eef-d890-435c-98b3-76e3c0866885",
   "metadata": {},
   "outputs": [],
   "source": [
    "t = (2,4,7,8, \"shubh\")"
   ]
  },
  {
   "cell_type": "code",
   "execution_count": 5,
   "id": "f432ee77-d41f-4bfd-92a0-06b0f0008026",
   "metadata": {},
   "outputs": [],
   "source": [
    "var1 = ' '"
   ]
  },
  {
   "cell_type": "code",
   "execution_count": 6,
   "id": "899a7f08-b924-4769-8fdc-e363fc81d64c",
   "metadata": {},
   "outputs": [
    {
     "data": {
      "text/plain": [
       "str"
      ]
     },
     "execution_count": 6,
     "metadata": {},
     "output_type": "execute_result"
    }
   ],
   "source": [
    "type(var1)"
   ]
  },
  {
   "cell_type": "code",
   "execution_count": 7,
   "id": "317744d2-7d2b-4eb3-b2cb-0a46ba8caaa0",
   "metadata": {},
   "outputs": [],
   "source": [
    "var2 = '[ DS , ML , Python]'"
   ]
  },
  {
   "cell_type": "code",
   "execution_count": 8,
   "id": "a8ed9493-558c-4d93-98b0-64d5655b287c",
   "metadata": {},
   "outputs": [
    {
     "data": {
      "text/plain": [
       "str"
      ]
     },
     "execution_count": 8,
     "metadata": {},
     "output_type": "execute_result"
    }
   ],
   "source": [
    "type(var2)"
   ]
  },
  {
   "cell_type": "code",
   "execution_count": 10,
   "id": "dd8c9649-9637-4b08-ac21-4c34dfc0eb64",
   "metadata": {},
   "outputs": [],
   "source": [
    "var3 = [ 'DS' , 'ML' , 'Python' ]"
   ]
  },
  {
   "cell_type": "code",
   "execution_count": 11,
   "id": "f78302ed-346e-4e55-b220-01ed9f241b7c",
   "metadata": {},
   "outputs": [
    {
     "data": {
      "text/plain": [
       "list"
      ]
     },
     "execution_count": 11,
     "metadata": {},
     "output_type": "execute_result"
    }
   ],
   "source": [
    "type(var3)"
   ]
  },
  {
   "cell_type": "code",
   "execution_count": 12,
   "id": "832c2c60-89fb-402e-97a4-45a6ace0181e",
   "metadata": {},
   "outputs": [],
   "source": [
    "var4 = 1."
   ]
  },
  {
   "cell_type": "code",
   "execution_count": 13,
   "id": "c2e5b672-620e-41ac-bad8-b20a5cbb2fe2",
   "metadata": {},
   "outputs": [
    {
     "data": {
      "text/plain": [
       "float"
      ]
     },
     "execution_count": 13,
     "metadata": {},
     "output_type": "execute_result"
    }
   ],
   "source": [
    "type(var4)"
   ]
  },
  {
   "cell_type": "code",
   "execution_count": 14,
   "id": "7db97cec-9abd-4b1a-9f38-6607482e7e62",
   "metadata": {},
   "outputs": [],
   "source": [
    "# ' / ' used for division "
   ]
  },
  {
   "cell_type": "code",
   "execution_count": 15,
   "id": "c8c1e2f5-99aa-4d28-ba95-f04d3e87ca62",
   "metadata": {},
   "outputs": [
    {
     "name": "stdout",
     "output_type": "stream",
     "text": [
      "6.666666666666667\n"
     ]
    }
   ],
   "source": [
    "a = 40\n",
    "b = 6\n",
    "r = a / b\n",
    "print(r)"
   ]
  },
  {
   "cell_type": "code",
   "execution_count": 16,
   "id": "1f279c56-0003-4438-b180-3b60f3d78f89",
   "metadata": {},
   "outputs": [],
   "source": [
    "# ' % ' used for modulus or remaindar calculation"
   ]
  },
  {
   "cell_type": "code",
   "execution_count": 17,
   "id": "6761f8e6-012d-4a1f-84ab-18a02f3ceb15",
   "metadata": {},
   "outputs": [
    {
     "name": "stdout",
     "output_type": "stream",
     "text": [
      "4\n"
     ]
    }
   ],
   "source": [
    "a = 40\n",
    "b = 6\n",
    "r = a % b\n",
    "print(r)"
   ]
  },
  {
   "cell_type": "code",
   "execution_count": 18,
   "id": "3954bfe1-0529-49ff-a243-20f6f8b17a6c",
   "metadata": {},
   "outputs": [],
   "source": [
    "# ' // ' used for floor division"
   ]
  },
  {
   "cell_type": "code",
   "execution_count": 19,
   "id": "f60a9cb0-854a-4f69-8822-d25d18005447",
   "metadata": {},
   "outputs": [
    {
     "name": "stdout",
     "output_type": "stream",
     "text": [
      "6\n"
     ]
    }
   ],
   "source": [
    "a = 40\n",
    "b = 6\n",
    "r = a // b\n",
    "print(r)"
   ]
  },
  {
   "cell_type": "code",
   "execution_count": 20,
   "id": "78eaaa0c-059e-4603-84be-2a64af0b9723",
   "metadata": {},
   "outputs": [],
   "source": [
    "# ' ** ' used for exponentiation"
   ]
  },
  {
   "cell_type": "code",
   "execution_count": 21,
   "id": "0c9b17c9-458a-42da-bbd5-b5e6d39fa2b3",
   "metadata": {},
   "outputs": [
    {
     "name": "stdout",
     "output_type": "stream",
     "text": [
      "27\n"
     ]
    }
   ],
   "source": [
    "a = 3\n",
    "b = 3\n",
    "r = a ** b\n",
    "print(r)"
   ]
  },
  {
   "cell_type": "code",
   "execution_count": 22,
   "id": "40bc869f-7471-4e0d-bc89-547fe19ae675",
   "metadata": {},
   "outputs": [],
   "source": [
    "# list of length 10 of your choice containing multiple types of data. Using for loop print the element and its data type."
   ]
  },
  {
   "cell_type": "code",
   "execution_count": 23,
   "id": "7640591f-2e4b-4b26-8b8d-1e5914f36e9c",
   "metadata": {},
   "outputs": [
    {
     "name": "stdout",
     "output_type": "stream",
     "text": [
      "13 <class 'int'>\n",
      "shubh <class 'str'>\n",
      "False <class 'bool'>\n",
      "12.32 <class 'float'>\n",
      "(4, 7, 6) <class 'tuple'>\n",
      "True <class 'bool'>\n",
      "(7+5j) <class 'complex'>\n",
      "['a', 'b', 'c'] <class 'list'>\n",
      "None <class 'NoneType'>\n",
      "Hello <class 'str'>\n"
     ]
    }
   ],
   "source": [
    "list = [13, \"shubh\" , False , 12.32 , (4,7,6) , True , 7+5j , ['a', 'b', 'c'] , None , \"Hello\"]\n",
    "for element in list:\n",
    "    print(element, type(element))"
   ]
  },
  {
   "cell_type": "code",
   "execution_count": 24,
   "id": "851537cb-f563-4210-9ba9-69462ae3b1f3",
   "metadata": {},
   "outputs": [],
   "source": [
    "# Using a while loop, verify if the number A is purely divisible by number B and if so then how many times it can be divisible."
   ]
  },
  {
   "cell_type": "code",
   "execution_count": 27,
   "id": "3f6782e9-2d3a-42bd-832a-a9baf608588d",
   "metadata": {},
   "outputs": [
    {
     "name": "stdin",
     "output_type": "stream",
     "text": [
      "A:  36\n",
      "B:  3\n"
     ]
    },
    {
     "name": "stdout",
     "output_type": "stream",
     "text": [
      "A is divisible by B. It can be divided 2 times.\n"
     ]
    }
   ],
   "source": [
    "A = int(input(\"A: \"))\n",
    "B = int(input(\"B: \"))\n",
    "count = 0 \n",
    "while A % B == 0:\n",
    "    A = A // B\n",
    "    count += 1\n",
    "if count > 0:\n",
    "    print(f\"A is divisible by B. It can be divided {count} times.\")\n",
    "else:\n",
    "    print(\"A is not divisible by B.\")"
   ]
  },
  {
   "cell_type": "code",
   "execution_count": 28,
   "id": "db927a00-dc7e-4eb8-8d15-3905862730ed",
   "metadata": {},
   "outputs": [],
   "source": [
    "# Create a list containing 25 int type data. Using for loop and if-else condition print if the element is divisible by 3 or not."
   ]
  },
  {
   "cell_type": "code",
   "execution_count": 29,
   "id": "679e99cc-44fc-4bdc-b9cb-fff70df92df4",
   "metadata": {},
   "outputs": [
    {
     "name": "stdout",
     "output_type": "stream",
     "text": [
      "13 is not divisible by 3.\n",
      "30 is divisible by 3.\n",
      "9 is divisible by 3.\n",
      "17 is not divisible by 3.\n",
      "36 is divisible by 3.\n",
      "43 is not divisible by 3.\n",
      "11 is not divisible by 3.\n",
      "24 is divisible by 3.\n",
      "21 is divisible by 3.\n",
      "29 is not divisible by 3.\n",
      "39 is divisible by 3.\n",
      "5 is not divisible by 3.\n",
      "13 is not divisible by 3.\n",
      "15 is divisible by 3.\n",
      "33 is divisible by 3.\n",
      "19 is not divisible by 3.\n",
      "25 is not divisible by 3.\n",
      "10 is not divisible by 3.\n",
      "48 is divisible by 3.\n",
      "18 is divisible by 3.\n",
      "31 is not divisible by 3.\n",
      "12 is divisible by 3.\n",
      "19 is not divisible by 3.\n",
      "54 is divisible by 3.\n",
      "46 is not divisible by 3.\n",
      "69 is divisible by 3.\n"
     ]
    }
   ],
   "source": [
    "list = [13, 30, 9, 17, 36, 43, 11, 24, 21, 29, 39, 5, 13, 15, 33, 19, 25, 10, 48, 18, 31, 12, 19, 54, 46, 69]\n",
    "for element in list:\n",
    "    if element % 3 == 0:\n",
    "        print(f\"{element} is divisible by 3.\")\n",
    "    else:\n",
    "        print(f\"{element} is not divisible by 3.\")"
   ]
  },
  {
   "cell_type": "code",
   "execution_count": 30,
   "id": "bcf5d9f1-519e-41ca-8ab5-ba7033111f19",
   "metadata": {},
   "outputs": [],
   "source": [
    "# about mutable and immutable data types\n",
    "# Mutable data types are those whose value can be changed in place after they have been created such as lists.\n",
    "# Immutable data types are those whose values cannot be modified after they are created such as int, floats, str, and tuples."
   ]
  },
  {
   "cell_type": "code",
   "execution_count": 32,
   "id": "ad251890-bc60-4df4-96d3-12952fbdba81",
   "metadata": {},
   "outputs": [
    {
     "name": "stdout",
     "output_type": "stream",
     "text": [
      "list after appending value =  [2, 3, 6, 5, 9, 12]\n"
     ]
    }
   ],
   "source": [
    "list = [2,3,6,5,9]\n",
    "list.append(12)\n",
    "print (\"list after appending value = \" , list)"
   ]
  },
  {
   "cell_type": "code",
   "execution_count": 33,
   "id": "fbe307f9-2ce6-470c-a605-6e1f21b82f14",
   "metadata": {},
   "outputs": [
    {
     "name": "stdout",
     "output_type": "stream",
     "text": [
      "Initial value of x: 10\n",
      "Updated value of x: 15\n"
     ]
    }
   ],
   "source": [
    "x = 10\n",
    "print(\"Initial value of x:\", x)\n",
    "x = x + 5\n",
    "print(\"Updated value of x:\", x)"
   ]
  },
  {
   "cell_type": "code",
   "execution_count": null,
   "id": "47c31cbc-dbb4-4e05-bd9c-cc1b7fb58961",
   "metadata": {},
   "outputs": [],
   "source": []
  }
 ],
 "metadata": {
  "kernelspec": {
   "display_name": "Python 3 (ipykernel)",
   "language": "python",
   "name": "python3"
  },
  "language_info": {
   "codemirror_mode": {
    "name": "ipython",
    "version": 3
   },
   "file_extension": ".py",
   "mimetype": "text/x-python",
   "name": "python",
   "nbconvert_exporter": "python",
   "pygments_lexer": "ipython3",
   "version": "3.10.8"
  }
 },
 "nbformat": 4,
 "nbformat_minor": 5
}
